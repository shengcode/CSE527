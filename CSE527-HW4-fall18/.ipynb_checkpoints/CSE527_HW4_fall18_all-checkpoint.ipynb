{
 "cells": [
  {
   "cell_type": "markdown",
   "metadata": {},
   "source": [
    "# CSE327 Homework 4\n",
    "**Due date: 23:59 on Nov. 20, 2018 (Thuesday)**\n",
    "\n",
    "## Description\n",
    "---\n",
    "This project is an introduction to deep learning tools for computer vision. You will design and train deep convolutional networks for scene recognition using [PyTorch](http://pytorch.org). You can visualize the\n",
    "structure of the network with [mNeuron] (http://vision03.csail.mit.edu/cnn_art/index.html)\n",
    "\n",
    "Remember Homework 3: Scene recognition with bag of words. You worked hard to design a bag of features representations that achieved 60% to 70% accuracy (most likely) on 15-way scene classification. We're going to attack the same task with deep learning and get higher accuracy. Training from scratch won't work quite as well as homework 3 due to the insufficient amount of data, fine-tuning an existing network will work much better than homework 3.\n",
    "\n",
    "In Problem 1 of the project you will train a deep convolutional network from scratch to recognize scenes. The starter codes gives you methods to load data and display them. You will need to define a simple network architecture and add jittering, normalization, and regularization to increase recognition accuracy to 50, 60, or perhaps 70%. Unfortunately, we only have 1,500 training examples so it doesn't seem possible to train a network from scratch which outperforms hand-crafted features\n",
    "\n",
    "For Problem 2 you will instead fine-tune a pre-trained deep network to achieve about 85% accuracy on the task. We will use the pretrained AlexNet network which was not trained to recognize scenes at all. \n",
    "\n",
    "These two approaches represent the most common approaches to recognition problems in computer vision today -- train a deep network from scratch if you have enough data (it's not always obvious whether or not you do), and if you cannot then instead fine-tune a pre-trained network.\n",
    "\n",
    "There are 2 problems in this homework with a total of 100 points. There is no bonus question for this homework. Be sure to read **Submission Guidelines** below. They are important. For the problems requiring text descriptions, you might want to add a markdown block for that.\n",
    "\n",
    "## Dataset\n",
    "---\n",
    "You will be using the same dataset in homework 3. The dataset contains 100 images from each category (i.e. 1500 training examples total and 1500 test cases total).  Download the dataset [here](https://drive.google.com/a/cs.stonybrook.edu/file/d/0B446EB1iI6_Qc0Q1NTRTajdUVTg/view?usp=sharing).\n",
    "\n",
    "Once downloded, extract it to your root folder Surname_Givenname_SBUID. Under your root folder, there should be a folder named \"data\" (i.e. XXX/Surname_Givenname_SBUID/data).\n",
    "\n",
    "## Some Tutorials (PyTorch)\n",
    "---\n",
    "- You will be using PyTorch for deep learning toolbox (follow the [link](http://pytorch.org) for installation).\n",
    "- For PyTorch beginners, please read this [tutorial](http://pytorch.org/tutorials/beginner/deep_learning_60min_blitz.html) before doing your homework.\n",
    "- Feel free to study more tutorials at http://pytorch.org/tutorials/.\n",
    "- Find cool visualization here at http://playground.tensorflow.org.\n",
    "\n",
    "I am releasing a working setup on my computer for your reference: <br>\n",
    "- OS: Windows 10 <br>\n",
    "- Python: 3.5.2 <br>\n",
    "- Pytorch (Stable + Windows + Conda + Python 3.5 + None): 0.4.1 <br>\n",
    "OpenCV and Pillow is required.\n",
    "\n",
    "\n",
    "## Starter Code\n",
    "---\n",
    "In the starter code, you are provided with a function that loads data into minibatches for training and testing in PyTorch."
   ]
  },
  {
   "cell_type": "code",
   "execution_count": 2,
   "metadata": {},
   "outputs": [],
   "source": [
    "# import packages here\n",
    "import cv2\n",
    "import numpy as np\n",
    "import matplotlib.pyplot as plt\n",
    "import glob\n",
    "import random \n",
    "\n",
    "import torch\n",
    "import torchvision\n",
    "import torchvision.transforms as transforms\n",
    "\n",
    "from torch.autograd import Variable\n",
    "import torch.nn as nn\n",
    "import torch.nn.functional as F"
   ]
  },
  {
   "cell_type": "code",
   "execution_count": 3,
   "metadata": {},
   "outputs": [],
   "source": [
    "import pdb\n",
    "import torch.optim as optim"
   ]
  },
  {
   "cell_type": "code",
   "execution_count": 4,
   "metadata": {},
   "outputs": [],
   "source": [
    "xx = glob.glob('data/train/*')"
   ]
  },
  {
   "cell_type": "code",
   "execution_count": 5,
   "metadata": {
    "scrolled": false
   },
   "outputs": [
    {
     "name": "stdout",
     "output_type": "stream",
     "text": [
      "{0: 'Bedroom', 1: 'Coast', 2: 'Forest', 3: 'Highway', 4: 'Industrial', 5: 'InsideCity', 6: 'Kitchen', 7: 'LivingRoom', 8: 'Mountain', 9: 'Office', 10: 'OpenCountry', 11: 'Store', 12: 'Street', 13: 'Suburb', 14: 'TallBuilding'}\n"
     ]
    }
   ],
   "source": [
    "# ==========================================\n",
    "#    Load Training Data and Testing Data\n",
    "# ==========================================\n",
    "\n",
    "class_names = [name[11:] for name in glob.glob('data/train/*')]\n",
    "class_names = dict(zip(range(len(class_names)), class_names))\n",
    "print(class_names)\n",
    "\n",
    "def img_norm(img):\n",
    "    return 2 * (np.float32(img) / 255 - 0.5) # normalize img pixels to [-1, 1]\n",
    "\n",
    "def img_rotating(img_input):\n",
    "    height, width = img_input.shape\n",
    "    img_center = (width/2, height/2)\n",
    "    rot_mat = cv2.getRotationMatrix2D(img_center, 80, 1.0)\n",
    "    # rotation calculates the cos and sin, taking absolutes of those.\n",
    "    abs_cos = abs(rot_mat[0,0]) \n",
    "    abs_sin = abs(rot_mat[0,1])\n",
    "    # find the new width and height bounds\n",
    "    bound_w = int(height * abs_sin + width * abs_cos)\n",
    "    bound_h = int(height * abs_cos + width * abs_sin)\n",
    "    # subtract old image center (bringing image back to origo) and adding the new image center coordinates\n",
    "    rot_mat[0, 2] += bound_w/2 - img_center[0]\n",
    "    rot_mat[1, 2] += bound_h/2 - img_center[1]\n",
    "    rotated_img = cv2.warpAffine(img_input, rot_mat, (bound_w,bound_h), flags=cv2.INTER_LINEAR)\n",
    "    return rotated_img\n",
    "    \n",
    "    \n",
    "    \n",
    "    \n",
    "def load_dataset(path, img_size, num_per_class=-1, batch_num=1, shuffle=False, augment=False, is_color=False):\n",
    "    \n",
    "    data = []\n",
    "    labels = []\n",
    "    \n",
    "    if is_color:\n",
    "        channel_num = 3\n",
    "    else:\n",
    "        channel_num = 1\n",
    "        \n",
    "    # read images and resizing\n",
    "    for id, class_name in class_names.items():\n",
    "        img_path_class = glob.glob(path + class_name + '/*.jpg')\n",
    "        if num_per_class > 0:\n",
    "            img_path_class = img_path_class[:num_per_class]\n",
    "        labels.extend([id]*len(img_path_class))\n",
    "        for filename in img_path_class:\n",
    "            if is_color:\n",
    "                img = cv2.imread(filename)\n",
    "            else:\n",
    "                img = cv2.imread(filename, 0)\n",
    "            \n",
    "            # resize the image\n",
    "            img = cv2.resize(img, img_size, cv2.INTER_LINEAR)\n",
    "            \n",
    "            if is_color:\n",
    "                img = np.transpose(img, [2, 0, 1])\n",
    "            \n",
    "            # norm pixel values to [-1, 1]\n",
    "            data.append(img_norm(img))\n",
    "    \n",
    "#     # norm data to zero-centered\n",
    "#     mean_img = np.mean(np.array(data), 0)\n",
    "#     data = data - mean_img\n",
    "#     data = [data[i] for i in xrange(data.shape[0])]\n",
    "    \n",
    "    # augment data\n",
    "    if augment:\n",
    "        aug_data = [np.flip(img, 1) for img in data]\n",
    "        data.extend(aug_data)\n",
    "        labels.extend(labels)\n",
    "\n",
    "    # randomly permute (this step is important for training)\n",
    "    if shuffle:\n",
    "        bundle = list(zip(data, labels))\n",
    "        random.shuffle(bundle)\n",
    "        data, labels = zip(*bundle)\n",
    "    \n",
    "    # divide data into minibatches of TorchTensors\n",
    "    if batch_num > 1:\n",
    "        batch_data = []\n",
    "        batch_labels = []\n",
    "        \n",
    "        print(len(data))\n",
    "        print(batch_num)\n",
    "        \n",
    "        for i in range(int(len(data) / batch_num)):\n",
    "            minibatch_d = data[i*batch_num: (i+1)*batch_num]\n",
    "            minibatch_d = np.reshape(minibatch_d, (batch_num, channel_num, img_size[0], img_size[1]))\n",
    "            batch_data.append(torch.from_numpy(minibatch_d))\n",
    "\n",
    "            minibatch_l = labels[i*batch_num: (i+1)*batch_num]\n",
    "            batch_labels.append(torch.LongTensor(minibatch_l))\n",
    "        data, labels = batch_data, batch_labels \n",
    "    \n",
    "    return zip(batch_data, batch_labels)"
   ]
  },
  {
   "cell_type": "code",
   "execution_count": 6,
   "metadata": {},
   "outputs": [
    {
     "name": "stdout",
     "output_type": "stream",
     "text": [
      "3000\n",
      "50\n",
      "Finish loading 60 minibatches(=50) of training samples.\n",
      "1500\n",
      "50\n",
      "Finish loading 30 minibatches(=50) of testing samples.\n"
     ]
    }
   ],
   "source": [
    "# load data into size (64, 64)\n",
    "img_size = (64, 64)\n",
    "batch_num = 50 # training sample number per batch \n",
    "\n",
    "# load training dataset\n",
    "trainloader_small = list(load_dataset('data/train/', img_size, batch_num=batch_num, shuffle=True, augment=True))\n",
    "train_num = len(trainloader_small)\n",
    "print(\"Finish loading %d minibatches(=%d) of training samples.\" % (train_num, batch_num))\n",
    "\n",
    "# load testing dataset\n",
    "testloader_small = list(load_dataset('data/test/', img_size, num_per_class=100, batch_num=batch_num))\n",
    "test_num = len(testloader_small)\n",
    "print(\"Finish loading %d minibatches(=%d) of testing samples.\" % (test_num, batch_num))"
   ]
  },
  {
   "cell_type": "code",
   "execution_count": 7,
   "metadata": {},
   "outputs": [
    {
     "name": "stdout",
     "output_type": "stream",
     "text": [
      "Highway\n"
     ]
    },
    {
     "data": {
      "image/png": "[encoded data removed]",
      "text/plain": [
       "<Figure size 432x288 with 1 Axes>"
      ]
     },
     "metadata": {
      "needs_background": "light"
     },
     "output_type": "display_data"
    }
   ],
   "source": [
    "# show some images\n",
    "def imshow(img):\n",
    "    img = img / 2 + 0.5     # unnormalize\n",
    "    npimg = img.numpy()\n",
    "    if len(npimg.shape) > 2:\n",
    "        npimg = np.transpose(img, [1, 2, 0])\n",
    "    plt.figure\n",
    "    plt.imshow(npimg, 'gray')\n",
    "    plt.show()\n",
    "img, label = trainloader_small[0][0][11][0], trainloader_small[0][1][11]\n",
    "label = int(np.array(label))\n",
    "print(class_names[label])\n",
    "imshow(img)"
   ]
  },
  {
   "cell_type": "code",
   "execution_count": 8,
   "metadata": {},
   "outputs": [
    {
     "data": {
      "text/plain": [
       "torch.Size([64, 64])"
      ]
     },
     "execution_count": 8,
     "metadata": {},
     "output_type": "execute_result"
    }
   ],
   "source": [
    "img.shape"
   ]
  },
  {
   "cell_type": "markdown",
   "metadata": {},
   "source": [
    "## Problem 1: Training a Network From Scratch\n",
    "{Part 1: 35 points} Gone are the days of hand designed features. Now we have end-to-end learning in which a highly non-linear representation is learned for our data to maximize our objective (in this case, 15-way classification accuracy). Instead of 70% accuracy we can now recognize scenes with... 25% accuracy. OK, that didn't work at all. Try to boost the accuracy by doing the following:\n",
    "\n",
    "**Data Augmentation**: We don't have enough training data, let's augment the training data.\n",
    "If you left-right flip (mirror) an image of a scene, it never changes categories. A kitchen doesn't become a forest when mirrored. This isn't true in all domains — a \"d\" becomes a \"b\" when mirrored, so you can't \"jitter\" digit recognition training data in the same way. But we can synthetically increase our amount of training data by left-right mirroring training images during the learning process.\n",
    "\n",
    "After you implement mirroring, you should notice that your training error doesn't drop as quickly. That's actually a good thing, because it means the network isn't overfitting to the 1,500 original training images as much (because it sees 3,000 training images now, although they're not as good as 3,000 truly independent samples). Because the training and test errors fall more slowly, you may need more training epochs or you may try modifying the learning rate. You should see a roughly 10% increase in accuracy by adding mirroring. You are **required** to implement mirroring as data augmentation for this part.\n",
    "\n",
    "You can try more elaborate forms of jittering -- zooming in a random amount, rotating a random amount, taking a random crop, etc. These are not required, you might want to try these in the bonus part.\n",
    "\n",
    "**Data Normalization**: The images aren't zero-centered. One simple trick which can help a lot is to subtract the mean from every image. It would arguably be more proper to only compute the mean from the training images (since the test/validation images should be strictly held out) but it won't make much of a difference. After doing this you should see another 15% or so increase in accuracy. This part is **required**.\n",
    "\n",
    "**Network Regularization**: Add dropout layer. If you train your network (especially for more than the default 30 epochs) you'll see that the training error can decrease to zero while the val top1 error hovers at 40% to 50%. The network has learned weights which can perfectly recognize the training data, but those weights don't generalize to held out test data. The best regularization would be more training data but we don't have that. Instead we will use dropout regularization.\n",
    "\n",
    "What does dropout regularization do? It randomly turns off network connections at training time to fight overfitting. This prevents a unit in one layer from relying too strongly on a single unit in the previous layer. Dropout regularization can be interpreted as simultaneously training many \"thinned\" versions of your network. At test, all connections are restored which is analogous to taking an average prediction over all of the \"thinned\" networks. You can see a more complete discussion of dropout regularization in this [paper](https://www.cs.toronto.edu/~hinton/absps/JMLRdropout.pdf).\n",
    "\n",
    "The dropout layer has only one free parameter — the dropout rate — the proportion of connections that are randomly deleted. The default of 0.5 should be fine. Insert a dropout layer between your convolutional layers. In particular, insert it directly before your last convolutional layer. Your test accuracy should increase by another 10%. Your train accuracy should decrease much more slowly. That's to be expected — you're making life much harder for the training algorithm by cutting out connections randomly. \n",
    "\n",
    "If you increase the number of training epochs (and maybe decrease the learning rate) you should be able to achieve around 50% test accuracy. In this part, you are **required** to add dropout layer to your network.\n",
    "\n",
    "Please give detailed descriptions of your network layout in the following format:<br>\n",
    "Data augmentation: [descriptions]<br>\n",
    "Data normalization: [descriptions]<br>\n",
    "Layer 1: [layer_type]: [Parameters]<br>\n",
    "Layer 2: [layer_type]: [Parameters]<br>\n",
    "...<br>\n",
    "Then report the final accuracy on test set and time consumed for training and testing separately.\n",
    "\n",
    "{Part 2: 15 points} Try **three techniques** taught in the class to increase the accuracy of your model. Such as increasing training data by randomly rotating training images, adding batch normalization, different activation functions (e.g., sigmoid) and model architecture modification. Note that too many layers can do you no good due to insufficient training data. Clearly describe your method and accuracy increase/decrease for each of the three techniques."
   ]
  },
  {
   "cell_type": "code",
   "execution_count": 57,
   "metadata": {},
   "outputs": [],
   "source": [
    "# ==========================================\n",
    "#       Define Network Architecture\n",
    "# ==========================================\n",
    "\n",
    "nclass = 15\n",
    "\n",
    "class Net(nn.Module):\n",
    "\n",
    "    def __init__(self):\n",
    "        super(Net, self).__init__()\n",
    "        # 1 input image channel, 6 output channels, 5x5 square convolution\n",
    "        # kernel\n",
    "        self.conv1 = nn.Conv2d(1, 10, 5)\n",
    "        self.conv2 = nn.Conv2d(10, 16, 5)\n",
    "        self.drop1 = nn.Dropout2d(p=0.1)\n",
    "        # an affine operation: y = Wx + b\n",
    "        self.fc1 = nn.Linear(16 * 13 * 13, 120)\n",
    "        self.fc2 = nn.Linear(120, 84)\n",
    "        #self.fc3= nn.Linear(84, 60)\n",
    "        self.fc3= nn.Linear(84, nclass)\n",
    "\n",
    "    def forward(self, x):\n",
    "        # Max pooling over a (2, 2) window\n",
    "        x = F.max_pool2d(F.relu(self.conv1(x)), (2, 2))\n",
    "        # If the size is a square you can only specify a single number\n",
    "#         x = F.max_pool2d(F.relu(self.conv2(x)), 2)\n",
    "        x = F.relu(F.max_pool2d(self.drop1(self.conv2(x)), 2))\n",
    "        \n",
    "        x = x.view(-1, self.num_flat_features(x))\n",
    "        x = (F.relu(self.fc1(x)))\n",
    "        x = F.relu(self.fc2(x))\n",
    "        #x = F.relu(self.fc3(x))\n",
    "        x = self.fc3(x)\n",
    "        return x\n",
    "\n",
    "    def num_flat_features(self, x):\n",
    "        size = x.size()[1:]  # all dimensions except the batch dimension\n",
    "        num_features = 1\n",
    "        for s in size:\n",
    "            num_features *= s\n",
    "        return num_features\n",
    "\n",
    "\n",
    "net = Net()\n",
    "# print(net)"
   ]
  },
  {
   "cell_type": "code",
   "execution_count": 59,
   "metadata": {},
   "outputs": [],
   "source": [
    "criterion = nn.CrossEntropyLoss()\n",
    "optimizer = optim.SGD(net.parameters(), lr=0.001, momentum=0.9)"
   ]
  },
  {
   "cell_type": "code",
   "execution_count": null,
   "metadata": {},
   "outputs": [],
   "source": [
    "# ==========================================\n",
    "#         Optimize/Train Network\n",
    "# ==========================================\n",
    "for epoch in range(100):  # loop over the dataset multiple times\n",
    "    running_loss = 0.0\n",
    "    for i, data in enumerate(trainloader_small, 0):\n",
    "        # get the inputs\n",
    "        inputs, labels = data\n",
    "\n",
    "        # zero the parameter gradients\n",
    "        optimizer.zero_grad()\n",
    "\n",
    "        # forward + backward + optimize\n",
    "        outputs = net(inputs)\n",
    "        loss = criterion(outputs, labels)\n",
    "        loss.backward()\n",
    "        optimizer.step()\n",
    "\n",
    "        # print statistics\n",
    "        running_loss += loss.item()\n",
    "        if i % 1000 == 999:    # print every 2000 mini-batches\n",
    "            print('[%d, %5d] loss: %.3f' %\n",
    "                  (epoch + 1, i + 1, running_loss / 2000))\n",
    "            running_loss = 0.0\n"
   ]
  },
  {
   "cell_type": "code",
   "execution_count": 44,
   "metadata": {},
   "outputs": [
    {
     "name": "stdout",
     "output_type": "stream",
     "text": [
      "FORWARD\n",
      "FORWARD\n",
      "FORWARD\n",
      "FORWARD\n",
      "FORWARD\n",
      "FORWARD\n",
      "FORWARD\n",
      "FORWARD\n",
      "FORWARD\n",
      "FORWARD\n",
      "FORWARD\n",
      "FORWARD\n",
      "FORWARD\n",
      "FORWARD\n",
      "FORWARD\n",
      "FORWARD\n",
      "FORWARD\n",
      "FORWARD\n",
      "FORWARD\n",
      "FORWARD\n",
      "FORWARD\n",
      "FORWARD\n",
      "FORWARD\n",
      "FORWARD\n",
      "FORWARD\n",
      "FORWARD\n",
      "FORWARD\n",
      "FORWARD\n",
      "FORWARD\n",
      "FORWARD\n",
      "Accuracy of the network on the test images: 41 %\n"
     ]
    }
   ],
   "source": [
    "# ==========================================\n",
    "#            Evaluating Network\n",
    "# ==========================================\n",
    "correct = 0\n",
    "total = 0\n",
    "with torch.no_grad():\n",
    "    for data in testloader_small:\n",
    "        images, labels = data\n",
    "        outputs = net(images)\n",
    "        _, predicted = torch.max(outputs.data, 1)\n",
    "        total += labels.size(0)\n",
    "        correct += (predicted == labels).sum().item()\n",
    "\n",
    "print('Accuracy of the network on the test images: %d %%' % (\n",
    "    100 * correct / total))"
   ]
  },
  {
   "cell_type": "markdown",
   "metadata": {},
   "source": [
    "Data augmentation: for each image, flip the image array and add the flipped image to the dataset as a new data   <br>\n",
    "Data normalization: for each pixel, do 2 * (pixel value / 255 - 0.5) to  normalize img pixels to [-1, 1]     <br>\n",
    "Layer 1: Layer_type:   convolution <br> \n",
    "         Parameters:    Conv2d(1, 10, kernel_size=(5, 5), stride=(1, 1))  <br>\n",
    "Layer 2: Layer_type:   RELU layer   <br>\n",
    "         Parameters:      <br>\n",
    "Layer 3: Layer_type:   max_pool2d layer   <br>\n",
    "         Parameters:      <br>\n",
    "Layer 4: Layer_type:   convolution layer   <br>\n",
    "         Parameters:   (conv2): Conv2d(10, 16, kernel_size=(5, 5), stride=(1, 1))   <br>\n",
    "\n",
    "Layer 5: Layer_type:   dropout layer   <br>\n",
    "         Parameters:    p=0.1  <br>\n",
    "Layer 6: Layer_type:   max_pool2d layer   <br>\n",
    "         Parameters:      <br>\n",
    "Layer 7: Layer_type:   RELU layer   <br>\n",
    "         Parameters:      <br>\n",
    "Layer 8: Layer_type:   fc1 layer   <br>\n",
    "         Parameters:   (fc1): Linear(in_features=2704, out_features=120, bias=True)   <br>\n",
    "Layer 9: Layer_type:   RELU layer   <br>\n",
    "         Parameters:      <br>\n",
    "Layer 10: Layer_type:   fc2 layer   <br>\n",
    "         Parameters:    (fc2): Linear(in_features=120, out_features=84, bias=True)  <br>\n",
    "Layer 11: Layer_type:   RELU layer   <br>\n",
    "         Parameters:      <br>\n",
    "Layer 12: Layer_type:   fc3 layer   <br>\n",
    "         Parameters:    (fc3): Linear(in_features=84, out_features=15, bias=True)  <br>\n",
    "         \n",
    "When epoch is 30 the accuracy is 35%\n",
    "when increase epoch = 100 the accuracy is 41%\n"
   ]
  },
  {
   "cell_type": "markdown",
   "metadata": {},
   "source": [
    "# increasing training data by randomly rotating training images"
   ]
  },
  {
   "cell_type": "markdown",
   "metadata": {},
   "source": [
    "# batch normalization "
   ]
  },
  {
   "cell_type": "code",
   "execution_count": null,
   "metadata": {},
   "outputs": [],
   "source": []
  },
  {
   "cell_type": "markdown",
   "metadata": {},
   "source": [
    "# using sigmoid as activation functions "
   ]
  },
  {
   "cell_type": "code",
   "execution_count": null,
   "metadata": {},
   "outputs": [],
   "source": [
    "nclass = 15\n",
    "\n",
    "class Net(nn.Module):\n",
    "\n",
    "    def __init__(self):\n",
    "        super(Net, self).__init__()\n",
    "        # 1 input image channel, 6 output channels, 5x5 square convolution\n",
    "        # kernel\n",
    "        self.conv1 = nn.Conv2d(1, 10, 5)\n",
    "        self.conv2 = nn.Conv2d(10, 16, 5)\n",
    "        self.drop1 = nn.Dropout2d(p=0.1)\n",
    "        self.fc1 = nn.Linear(16 * 13 * 13, 120)\n",
    "        self.fc2 = nn.Linear(120, 84)\n",
    "        #self.fc3= nn.Linear(84, 60)\n",
    "        self.fc3= nn.Linear(84, nclass)\n",
    "\n",
    "    def forward(self, x):\n",
    "        # Max pooling over a (2, 2) window\n",
    "        x = F.max_pool2d(torch.sigmoid(self.conv1(x)), (2, 2))\n",
    "        x = torch.sigmoid(F.max_pool2d(self.drop1(self.conv2(x)), 2))        \n",
    "        x = x.view(-1, self.num_flat_features(x))\n",
    "        x = (torch.sigmoid(self.fc1(x)))\n",
    "        x = torch.sigmoid(self.fc2(x))\n",
    "        x = self.fc3(x)\n",
    "        return x\n",
    "\n",
    "    def num_flat_features(self, x):\n",
    "        size = x.size()[1:]  # all dimensions except the batch dimension\n",
    "        num_features = 1\n",
    "        for s in size:\n",
    "            num_features *= s\n",
    "        return num_features\n",
    "\n",
    "\n",
    "net = Net()"
   ]
  },
  {
   "cell_type": "code",
   "execution_count": null,
   "metadata": {},
   "outputs": [],
   "source": [
    "criterion = nn.CrossEntropyLoss()\n",
    "optimizer = optim.SGD(net.parameters(), lr=0.001, momentum=0.9)"
   ]
  },
  {
   "cell_type": "code",
   "execution_count": null,
   "metadata": {},
   "outputs": [],
   "source": [
    "# ==========================================\n",
    "#         Optimize/Train Network\n",
    "# ==========================================\n",
    "for epoch in range(100):  # loop over the dataset multiple times\n",
    "    running_loss = 0.0\n",
    "    for i, data in enumerate(trainloader_small, 0):\n",
    "        # get the inputs\n",
    "        inputs, labels = data\n",
    "\n",
    "        # zero the parameter gradients\n",
    "        optimizer.zero_grad()\n",
    "\n",
    "        # forward + backward + optimize\n",
    "        outputs = net(inputs)\n",
    "        loss = criterion(outputs, labels)\n",
    "        loss.backward()\n",
    "        optimizer.step()\n",
    "\n",
    "        # print statistics\n",
    "        running_loss += loss.item()\n",
    "        if i % 1000 == 999:    # print every 2000 mini-batches\n",
    "            print('[%d, %5d] loss: %.3f' %\n",
    "                  (epoch + 1, i + 1, running_loss / 2000))\n",
    "            running_loss = 0.0\n"
   ]
  },
  {
   "cell_type": "code",
   "execution_count": null,
   "metadata": {},
   "outputs": [],
   "source": [
    "# ==========================================\n",
    "#            Evaluating Network\n",
    "# ==========================================\n",
    "correct = 0\n",
    "total = 0\n",
    "with torch.no_grad():\n",
    "    for data in testloader_small:\n",
    "        images, labels = data\n",
    "        outputs = net(images)\n",
    "        _, predicted = torch.max(outputs.data, 1)\n",
    "        total += labels.size(0)\n",
    "        correct += (predicted == labels).sum().item()\n",
    "\n",
    "print('Accuracy of the network on the test images: %d %%' % (\n",
    "    100 * correct / total))"
   ]
  },
  {
   "cell_type": "code",
   "execution_count": null,
   "metadata": {},
   "outputs": [],
   "source": [
    "Layer 1: Layer_type:   convolution <br> \n",
    "         Parameters:    Conv2d(1, 10, kernel_size=(5, 5), stride=(1, 1))  <br>\n",
    "Layer 2: Layer_type:   sigmoid layer   <br>\n",
    "         Parameters:      <br>\n",
    "Layer 3: Layer_type:   max_pool2d layer   <br>\n",
    "         Parameters:      <br>\n",
    "Layer 4: Layer_type:   convolution layer   <br>\n",
    "         Parameters:   (conv2): Conv2d(10, 16, kernel_size=(5, 5), stride=(1, 1))   <br>\n",
    "\n",
    "Layer 5: Layer_type:   dropout layer   <br>\n",
    "         Parameters:    p=0.1  <br>\n",
    "Layer 6: Layer_type:   max_pool2d layer   <br>\n",
    "         Parameters:      <br>\n",
    "Layer 7: Layer_type:   sigmoid layer   <br>\n",
    "         Parameters:      <br>\n",
    "Layer 8: Layer_type:   fc1 layer   <br>\n",
    "         Parameters:   (fc1): Linear(in_features=2704, out_features=120, bias=True)   <br>\n",
    "Layer 9: Layer_type:   sigmoid layer   <br>\n",
    "         Parameters:      <br>\n",
    "Layer 10: Layer_type:   fc2 layer   <br>\n",
    "         Parameters:    (fc2): Linear(in_features=120, out_features=84, bias=True)  <br>\n",
    "Layer 11: Layer_type:   sigmoid layer   <br>\n",
    "         Parameters:      <br>\n",
    "Layer 12: Layer_type:   fc3 layer   <br>\n",
    "         Parameters:    (fc3): Linear(in_features=84, out_features=15, bias=True)  <br>\n",
    "         \n",
    "When epoch is 30 the accuracy is 35%\n",
    "when increase epoch = 100 the accuracy is 41%"
   ]
  },
  {
   "cell_type": "markdown",
   "metadata": {
    "collapsed": true
   },
   "source": [
    "# Problem 2: Fine Tuning a Pre-Trained Deep Network\n",
    "{Part 1: 30 points} Our convolutional network to this point isn't \"deep\". Fortunately, the representations learned by deep convolutional networks is that they generalize surprisingly well to other recognition tasks. \n",
    "\n",
    "But how do we use an existing deep network for a new recognition task? Take for instance,  [AlexNet](http://papers.nips.cc/paper/4824-imagenet-classification-with-deep-convolutional-neural-networks) network has 1000 units in the final layer corresponding to 1000 ImageNet categories.\n",
    "\n",
    "**Strategy A**: One could use those 1000 activations as a feature in place of a hand crafted feature such as a bag-of-features representation. You would train a classifier (typically a linear SVM) in that 1000 dimensional feature space. However, those activations are clearly very object specific and may not generalize well to new recognition tasks. It is generally better to use the activations in slightly earlier layers of the network, e.g. the 4096 activations in the last 2nd fully-connected layer. You can often get away with sub-sampling those 4096 activations considerably, e.g. taking only the first 200 activations. \n",
    "\n",
    "**Strategy B**: *Fine-tune* an existing network. In this scenario you take an existing network, replace the final layer (or more) with random weights, and train the entire network again with images and ground truth labels for your recognition task. You are effectively treating the pre-trained deep network as a better initialization than the random weights used when training from scratch. When you don't have enough training data to train a complex network from scratch (e.g. with the 15 scene database) this is an attractive option. Fine-tuning can work far better than Strategy A of taking the activations directly from an pre-trained CNN. For example, in [this paper](http://www.cc.gatech.edu/~hays/papers/deep_geo.pdf) from CVPR 2015, there wasn't enough data to train a deep network from scratch, but fine tuning led to 4 times higher accuracy than using off-the-shelf networks directly.\n",
    "\n",
    "You are required to implement **Strategy B** to fine-tune a pre-trained **AlexNet** for this scene classification task. You should be able to achieve performance of 85% approximately. It takes roughly 35~40 minutes to train 20 epoches with AlexNet.\n",
    "\n",
    "Please provide detailed descriptions of:<br>\n",
    "(1) which layers of AlexNet have been replaced<br>\n",
    "(2) the architecture of the new layers added including activation methods (same as problem 1)<br>\n",
    "(3) the final accuracy on test set along with time consumption for both training and testing <br>\n",
    "**DO NOT** turn in the downloaded AlexNet, I will download it myself to test your network.\n",
    "\n",
    "{Part 2: 20 points} Implement Strategy A where you use the activations of the pre-trained network as features to train one-vs-all SVMs for your scene classification task. Report the final accuracy on test set along with time consumption for both training and testing.\n",
    "\n",
    "**Hints**:\n",
    "- Many pre-trained models are available in PyTorch at [here](http://pytorch.org/docs/master/torchvision/models.html).\n",
    "- For fine-tuning pretrained network using PyTorch, please read this [tutorial](http://pytorch.org/tutorials/beginner/transfer_learning_tutorial.html)."
   ]
  },
  {
   "cell_type": "code",
   "execution_count": 16,
   "metadata": {},
   "outputs": [
    {
     "name": "stdout",
     "output_type": "stream",
     "text": [
      "1500\n",
      "50\n",
      "Finish loading 30 minibatches(=50) of training samples.\n",
      "1500\n",
      "50\n",
      "Finish loading 30 minibatches(=50) of testing samples.\n"
     ]
    }
   ],
   "source": [
    "# reload data with a larger size\n",
    "img_size = (224, 224)\n",
    "batch_num = 50 # training sample number per batch \n",
    "\n",
    "# load training dataset\n",
    "trainloader_large = list(load_dataset('data/train/', img_size, batch_num=batch_num, shuffle=True, augment=False, is_color=True))\n",
    "train_num = len(trainloader_large)\n",
    "print(\"Finish loading %d minibatches(=%d) of training samples.\" % (train_num, batch_num))\n",
    "\n",
    "# load testing dataset\n",
    "testloader_large = list(load_dataset('data/test/', img_size, num_per_class=100, batch_num=batch_num, is_color=True))\n",
    "test_num = len(testloader_large)\n",
    "print(\"Finish loading %d minibatches(=%d) of testing samples.\" % (test_num, batch_num))"
   ]
  },
  {
   "cell_type": "code",
   "execution_count": 43,
   "metadata": {},
   "outputs": [],
   "source": [
    "from torchvision import models\n",
    "import time, copy"
   ]
  },
  {
   "cell_type": "code",
   "execution_count": 18,
   "metadata": {},
   "outputs": [],
   "source": [
    "device = torch.device(\"cuda:0\" if torch.cuda.is_available() else \"cpu\")"
   ]
  },
  {
   "cell_type": "code",
   "execution_count": 51,
   "metadata": {},
   "outputs": [],
   "source": [
    "del device"
   ]
  },
  {
   "cell_type": "code",
   "execution_count": 54,
   "metadata": {},
   "outputs": [],
   "source": [
    "\n",
    "model_ft = models.alexnet(pretrained=True)\n",
    "# number of features in last layer\n",
    "num_ftrs = model_ft.classifier[-1].in_features\n",
    "#num_ftrs = model_ft.fc.in_features\n",
    "model_ft.classifier[-1] = nn.Linear(num_ftrs, nclass)\n",
    "\n",
    "#model_ft = model_ft.to(device)\n",
    "\n",
    "criterion = nn.CrossEntropyLoss()\n",
    "\n",
    "optimizer_ft = optim.SGD(model_ft.parameters(), lr=0.001, momentum=0.9)\n",
    "\n",
    "exp_lr_scheduler = optim.lr_scheduler.StepLR(optimizer_ft, step_size=7, gamma=0.1)\n"
   ]
  },
  {
   "cell_type": "code",
   "execution_count": 55,
   "metadata": {},
   "outputs": [
    {
     "data": {
      "text/plain": [
       "Conv2d(3, 64, kernel_size=(11, 11), stride=(4, 4), padding=(2, 2))"
      ]
     },
     "execution_count": 55,
     "metadata": {},
     "output_type": "execute_result"
    }
   ],
   "source": [
    "model_ft.features[0]"
   ]
  },
  {
   "cell_type": "code",
   "execution_count": 52,
   "metadata": {},
   "outputs": [],
   "source": [
    "def train_model(model, criterion, optimizer, scheduler, num_epochs=25):\n",
    "    since = time.time()\n",
    "\n",
    "    best_model_wts = copy.deepcopy(model.state_dict())\n",
    "    best_acc = 0.0\n",
    "\n",
    "    for epoch in range(num_epochs):\n",
    "        print('Epoch {}/{}'.format(epoch, num_epochs - 1))\n",
    "        print('-' * 10)\n",
    "\n",
    "        # Each epoch has a training and validation phase\n",
    "        scheduler.step()\n",
    "        model.train()  # Set model to training mode\n",
    "\n",
    "            # Iterate over data.\n",
    "        for inputs, labels in trainloader_large:\n",
    "            #inputs = inputs.to(device)\n",
    "            #labels = labels.to(device)\n",
    "\n",
    "            # zero the parameter gradients\n",
    "            optimizer.zero_grad()\n",
    "\n",
    "            # forward\n",
    "            # track history if only in train\n",
    "            with torch.set_grad_enabled(True):\n",
    "                outputs = model(inputs)\n",
    "                _, preds = torch.max(outputs, 1)\n",
    "                loss = criterion(outputs, labels)\n",
    "\n",
    "                # backward + optimize only if in training phase\n",
    "                \n",
    "                loss.backward()\n",
    "                optimizer.step()\n",
    "\n",
    "            # statistics\n",
    "\n",
    "    print()\n",
    "\n",
    "    time_elapsed = time.time() - since\n",
    "    print('Training complete in {:.0f}m {:.0f}s'.format(\n",
    "        time_elapsed // 60, time_elapsed % 60))\n",
    "    print('Best val Acc: {:4f}'.format(best_acc))\n",
    "\n",
    "    # load best model weights\n",
    "    #model.load_state_dict(best_model_wts)\n",
    "    return model"
   ]
  },
  {
   "cell_type": "code",
   "execution_count": 56,
   "metadata": {
    "scrolled": true
   },
   "outputs": [
    {
     "name": "stdout",
     "output_type": "stream",
     "text": [
      "Epoch 0/24\n",
      "----------\n",
      "Epoch 1/24\n",
      "----------\n",
      "Epoch 2/24\n",
      "----------\n",
      "Epoch 3/24\n",
      "----------\n",
      "Epoch 4/24\n",
      "----------\n",
      "Epoch 5/24\n",
      "----------\n",
      "Epoch 6/24\n",
      "----------\n",
      "Epoch 7/24\n",
      "----------\n",
      "Epoch 8/24\n",
      "----------\n",
      "Epoch 9/24\n",
      "----------\n",
      "Epoch 10/24\n",
      "----------\n",
      "Epoch 11/24\n",
      "----------\n",
      "Epoch 12/24\n",
      "----------\n",
      "Epoch 13/24\n",
      "----------\n",
      "Epoch 14/24\n",
      "----------\n",
      "Epoch 15/24\n",
      "----------\n",
      "Epoch 16/24\n",
      "----------\n",
      "Epoch 17/24\n",
      "----------\n",
      "Epoch 18/24\n",
      "----------\n",
      "Epoch 19/24\n",
      "----------\n",
      "Epoch 20/24\n",
      "----------\n",
      "Epoch 21/24\n",
      "----------\n",
      "Epoch 22/24\n",
      "----------\n",
      "Epoch 23/24\n",
      "----------\n",
      "Epoch 24/24\n",
      "----------\n",
      "\n",
      "Training complete in 31m 14s\n",
      "Best val Acc: 0.000000\n"
     ]
    }
   ],
   "source": [
    "model_ft = train_model(model_ft, criterion, optimizer_ft, exp_lr_scheduler,\n",
    "                       num_epochs=25)"
   ]
  },
  {
   "cell_type": "code",
   "execution_count": 57,
   "metadata": {},
   "outputs": [
    {
     "name": "stdout",
     "output_type": "stream",
     "text": [
      "Accuracy of the network on the test images: 86 %\n"
     ]
    }
   ],
   "source": [
    "correct = 0\n",
    "total = 0\n",
    "with torch.no_grad():\n",
    "    for data in testloader_large:\n",
    "        images, labels = data\n",
    "        outputs = model_ft(images)\n",
    "        _, predicted = torch.max(outputs.data, 1)\n",
    "        total += labels.size(0)\n",
    "        correct += (predicted == labels).sum().item()\n",
    "\n",
    "print('Accuracy of the network on the test images: %d %%' % (\n",
    "    100 * correct / total))"
   ]
  },
  {
   "cell_type": "markdown",
   "metadata": {},
   "source": [
    "\n",
    "(1) which layers of AlexNet have been replaced <br>\n",
    "(2) the architecture of the new layers added including activation methods (same as problem 1) <br>\n",
    "\n",
    "(3) the final accuracy on test set along with time consumption for both training and testing  <br>\n",
    "Accuracy of the network on the test images: 86 % <br>"
   ]
  },
  {
   "cell_type": "code",
   "execution_count": null,
   "metadata": {},
   "outputs": [],
   "source": [
    "# ==========================================\n",
    "#       Fine-Tune Pretrained Network\n",
    "# =========================================="
   ]
  },
  {
   "cell_type": "markdown",
   "metadata": {},
   "source": [
    "## Submission guidelines\n",
    "---\n",
    "Extract the downloaded .zip file to a folder of your preference. The input and output paths are predefined and **DO NOT** change them. The image read and write functions are already written for you. \n",
    "\n",
    "When submitting your .zip file through blackboard, please <br> \n",
    "-- name your .zip file as Surname_Givenname_SBUID (example: Trump_Donald_11113456). <br>\n",
    "-- DO NOT change the folder structre, please just fill in the blanks. <br>\n",
    "\n",
    "You are encouraged to make posts and answer questions on Piazza. Due to the amount of emails I receive from past years, it is unfortunate that I won't be able to reply all your emails. Please ask questions on Piazza and send emails only when it is private.\n",
    "\n",
    "To encourage you to answer questions on piazza, the three persons answering the most questions will be awarded extra 5 points at the end of the semester.\n",
    "\n",
    "If you alter the folder strucutres, the grading of your homework will be significantly delayed and possibly penalized. And I **WILL NOT** reply to any email regarding this matter.\n",
    "\n",
    "Be aware that your codes will undergo plagiarism checker both vertically and horizontally. Please do your own work.\n",
    "\n",
    "Late submission penalty: <br>\n",
    "There will be a 10% penalty per day for late submission. However, you will have 3 days throughout the whole semester to submit late without penalty. Note that the grace period is calculated by days instead of hours. If you submit the homework one minute after the deadline, one late day will be counted. Likewise, if you submit one minute after the deadline, the 10% penaly will be imposed if not using the grace period. All late penalties incurred will be applied to your scores at the end of the semester.\n",
    "\n",
    "Some important things to note: <br>\n",
    "A correct pipeline for your submitted folder structure: <br>\n",
    "1) Download the .zip file from blackboard and unzip it (e.g. CSE527-HW1-Fall18.zip) <br>\n",
    "2) The unzipped folder should have name like CSE527-HW1-Fall18, rename it to Surname_Givenname_SBUID <br>\n",
    "3) Write your codes in the given .ipynb file <br>\n",
    "4) Save the visual outputs in the .ipynb file <br>\n",
    "5) Rezip your Surname_Givenname_SBUID folder and submit <br>\n",
    "\n",
    "**2 credits will be deducted** from HW2 and onwards if:\n",
    "1) The unzipped folder still have name like CSE527-HW1-Fall18 <br>\n",
    "2) There is a nested folder named CSE527-HW1-Fall18 under your Surname_Givenname_SBUID folder <br>\n",
    "3) You zipped sub-folders and .ipynb directly without providing a root folder called Surname_Givenname_SBUID <br>\n",
    "4) There are more than one .ipynb file under your folder (people who did this didn't receive a score for HW1) <br>\n",
    "5) The naming didn't conform to Surname_Givenname_SBUID <br>\n",
    "6) You didn't save the visual outputs inside your .ipynb file <br>"
   ]
  },
  {
   "cell_type": "markdown",
   "metadata": {},
   "source": [
    "<!--Write your report here in markdown or html-->\n"
   ]
  }
 ],
 "metadata": {
  "anaconda-cloud": {},
  "kernelspec": {
   "display_name": "Python 3",
   "language": "python",
   "name": "python3"
  },
  "language_info": {
   "codemirror_mode": {
    "name": "ipython",
    "version": 3
   },
   "file_extension": ".py",
   "mimetype": "text/x-python",
   "name": "python",
   "nbconvert_exporter": "python",
   "pygments_lexer": "ipython3",
   "version": "3.6.6"
  }
 },
 "nbformat": 4,
 "nbformat_minor": 2
}
